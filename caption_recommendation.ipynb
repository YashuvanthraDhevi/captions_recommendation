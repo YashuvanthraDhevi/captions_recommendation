{
 "cells": [
  {
   "cell_type": "markdown",
   "metadata": {},
   "source": [
    "### Importing Libraries"
   ]
  },
  {
   "cell_type": "code",
   "execution_count": 1,
   "metadata": {},
   "outputs": [],
   "source": [
    "import torch\n",
    "from PIL import Image\n",
    "from transformers import CLIPProcessor, CLIPModel, AutoProcessor, AutoModelForCausalLM\n",
    "import pandas as pd"
   ]
  },
  {
   "cell_type": "markdown",
   "metadata": {},
   "source": [
    "### Image Loading and Preprocessing"
   ]
  },
  {
   "cell_type": "code",
   "execution_count": 2,
   "metadata": {},
   "outputs": [],
   "source": [
    "def load_and_preprocess_image(image_path):\n",
    "    image = Image.open(image_path).convert(\"RGB\")\n",
    "    processor = CLIPProcessor.from_pretrained(\"openai/clip-vit-base-patch32\")\n",
    "    inputs = processor(images=image, return_tensors=\"pt\")\n",
    "    return inputs, processor"
   ]
  },
  {
   "cell_type": "markdown",
   "metadata": {},
   "source": [
    "### Generating Image Embeddings"
   ]
  },
  {
   "cell_type": "code",
   "execution_count": 3,
   "metadata": {},
   "outputs": [],
   "source": [
    "def generate_image_embeddings(inputs):\n",
    "    model = CLIPModel.from_pretrained(\"openai/clip-vit-base-patch32\")\n",
    "    with torch.no_grad():\n",
    "        image_features = model.get_image_features(**inputs)\n",
    "\n",
    "    return image_features, model"
   ]
  },
  {
   "cell_type": "markdown",
   "metadata": {},
   "source": [
    "### Matching Image with Text Embeddings"
   ]
  },
  {
   "cell_type": "code",
   "execution_count": 4,
   "metadata": {},
   "outputs": [],
   "source": [
    "def match_captions(image_features, captions, clip_model, processor):\n",
    "    # 1. get text embeddings for the captions:\n",
    "    text_inputs = processor(text=captions, return_tensors=\"pt\", padding=True)\n",
    "    with torch.no_grad():\n",
    "        text_features = clip_model.get_text_features(**text_inputs)\n",
    "\n",
    "    # 2. calculate cosine similarity between image and text features:\n",
    "    image_features = image_features.detach().cpu().numpy()\n",
    "    text_features = text_features.detach().cpu().numpy()\n",
    "\n",
    "    similarities = cosine_similarity(image_features, text_features)\n",
    "\n",
    "    # 3. find the best matching captions:\n",
    "    best_indices = similarities.argsort(axis=1)[0][::-1]  \n",
    "    best_captions = [captions[i] for i in best_indices]\n",
    "\n",
    "    return best_captions, similarities[0][best_indices].tolist()"
   ]
  },
  {
   "cell_type": "markdown",
   "metadata": {},
   "source": [
    "### Main Function"
   ]
  },
  {
   "cell_type": "code",
   "execution_count": 5,
   "metadata": {},
   "outputs": [],
   "source": [
    "def image_captioning(image_path, candidate_captions):  \n",
    "    inputs, processor = load_and_preprocess_image(image_path)\n",
    "    image_features, clip_model = generate_image_embeddings(inputs)\n",
    "\n",
    "    best_captions, similarities = match_captions(image_features, candidate_captions, clip_model, processor)\n",
    "    return best_captions, similarities"
   ]
  },
  {
   "cell_type": "markdown",
   "metadata": {},
   "source": [
    "### Candidate Captions"
   ]
  },
  {
   "cell_type": "code",
   "execution_count": 6,
   "metadata": {},
   "outputs": [],
   "source": [
    "captions = pd.read_excel(\"social_media_captions.xlsx\",header=None)\n",
    "candidate_captions = captions.iloc[:, 0].dropna().tolist()"
   ]
  },
  {
   "cell_type": "markdown",
   "metadata": {},
   "source": [
    "### Testing"
   ]
  },
  {
   "cell_type": "code",
   "execution_count": 7,
   "metadata": {},
   "outputs": [
    {
     "name": "stderr",
     "output_type": "stream",
     "text": [
      "Using a slow image processor as `use_fast` is unset and a slow processor was saved with this model. `use_fast=True` will be the default behavior in v4.52, even if the model was saved with a slow processor. This will result in minor differences in outputs. You'll still be able to use a slow processor with `use_fast=False`.\n"
     ]
    },
    {
     "name": "stdout",
     "output_type": "stream",
     "text": [
      "Top 5 Best Captions:\n",
      "1. Peace begins with me. (Similarity: 0.2287)\n",
      "2. Office vibes. (Similarity: 0.2278)\n",
      "3. Sometimes you have to create your own sunshine. (Similarity: 0.2274)\n",
      "4. Meeting mode activated. (Similarity: 0.2261)\n",
      "5. The journey is the destination. (Similarity: 0.2256)\n"
     ]
    }
   ],
   "source": [
    "from sklearn.metrics.pairwise import cosine_similarity \n",
    "\n",
    "best_captions, similarities = image_captioning(\"C:/Users/dhevi/OneDrive/Pictures/saree.jpg\", candidate_captions)\n",
    "\n",
    "# get the top 5 results\n",
    "top_n = min(5, len(best_captions))\n",
    "top_best_captions = best_captions[:top_n]\n",
    "top_similarities = similarities[:top_n]\n",
    "\n",
    "print(\"Top 5 Best Captions:\")\n",
    "for i, (caption, similarity) in enumerate(zip(top_best_captions, top_similarities)):\n",
    "    print(f\"{i+1}. {caption} (Similarity: {similarity:.4f})\")"
   ]
  },
  {
   "cell_type": "code",
   "execution_count": 8,
   "metadata": {},
   "outputs": [
    {
     "name": "stdout",
     "output_type": "stream",
     "text": [
      "Top 5 Best Captions:\n",
      "1. Friendship isn’t a big thing—it’s a million little things. (Similarity: 0.2519)\n",
      "2. A friend is what the heart needs all the time. (Similarity: 0.2516)\n",
      "3. Friends are the siblings God never gave us. (Similarity: 0.2482)\n",
      "4. Friends make life so much better. (Similarity: 0.2481)\n",
      "5. Memories take you back, friendship brings you forward. (Similarity: 0.2469)\n"
     ]
    }
   ],
   "source": [
    "from sklearn.metrics.pairwise import cosine_similarity \n",
    "\n",
    "best_captions, similarities = image_captioning(\"D:/pictures/yashu phone/2023-05-16 yashu phone/yashu phone 164.jpg\", candidate_captions)\n",
    "\n",
    "# get the top 5 results\n",
    "top_n = min(5, len(best_captions))\n",
    "top_best_captions = best_captions[:top_n]\n",
    "top_similarities = similarities[:top_n]\n",
    "\n",
    "print(\"Top 5 Best Captions:\")\n",
    "for i, (caption, similarity) in enumerate(zip(top_best_captions, top_similarities)):\n",
    "    print(f\"{i+1}. {caption} (Similarity: {similarity:.4f})\")"
   ]
  }
 ],
 "metadata": {
  "kernelspec": {
   "display_name": "base",
   "language": "python",
   "name": "python3"
  },
  "language_info": {
   "codemirror_mode": {
    "name": "ipython",
    "version": 3
   },
   "file_extension": ".py",
   "mimetype": "text/x-python",
   "name": "python",
   "nbconvert_exporter": "python",
   "pygments_lexer": "ipython3",
   "version": "3.12.4"
  }
 },
 "nbformat": 4,
 "nbformat_minor": 2
}
